{
 "cells": [
  {
   "attachments": {},
   "cell_type": "markdown",
   "metadata": {},
   "source": [
    "## 1번"
   ]
  },
  {
   "cell_type": "code",
   "execution_count": 68,
   "metadata": {},
   "outputs": [
    {
     "name": "stdout",
     "output_type": "stream",
     "text": [
      "넓이 :  12.566368\n"
     ]
    }
   ],
   "source": [
    "pi = 3.141592\n",
    "\n",
    "r = float(input(\"반지름 값을 입력해주세요: \"))\n",
    "\n",
    "print(f\"넓이 :  {r * r * pi}\")"
   ]
  },
  {
   "attachments": {},
   "cell_type": "markdown",
   "metadata": {},
   "source": [
    "## 2번"
   ]
  },
  {
   "cell_type": "code",
   "execution_count": 70,
   "metadata": {},
   "outputs": [
    {
     "name": "stdout",
     "output_type": "stream",
     "text": [
      "수성\n"
     ]
    }
   ],
   "source": [
    "P = {'Mercury' : '수성', 'Venus' : '금성'  , 'Earth' : '지구', 'Mars' : '화성' , 'Jupiter' : '목성', 'Saturn' : '토성', 'Uranus' : '천왕성', 'Neptune' : '해왕성'}\n",
    "\n",
    "print(P[input()])"
   ]
  },
  {
   "attachments": {},
   "cell_type": "markdown",
   "metadata": {},
   "source": [
    "## 3번"
   ]
  },
  {
   "cell_type": "code",
   "execution_count": 5,
   "metadata": {},
   "outputs": [
    {
     "name": "stdout",
     "output_type": "stream",
     "text": [
      "7\n",
      "I'm GOING to LEAVE the DOOR open\n"
     ]
    }
   ],
   "source": [
    "S = (input(\"문자열을 입력하세요 : \"))\n",
    "\n",
    "S = input().split()\n",
    "print(len(S))\n",
    "\n",
    "for i in range(len(S)):\n",
    "    if i % 2 == 1:\n",
    "        S[i] = S[i].upper()\n",
    "\n",
    "print(\" \".join(S))\n",
    "    "
   ]
  },
  {
   "attachments": {},
   "cell_type": "markdown",
   "metadata": {},
   "source": [
    "## 4번"
   ]
  },
  {
   "cell_type": "code",
   "execution_count": 73,
   "metadata": {},
   "outputs": [
    {
     "name": "stdout",
     "output_type": "stream",
     "text": [
      "9 7 5 3 1\n"
     ]
    }
   ],
   "source": [
    "S = (input(\"수를 입력하세요 : \"))\n",
    "S_reverse = ''\n",
    "for char in S:\n",
    "    S_reverse = char + S_reverse\n",
    "\n",
    "print(S_reverse)"
   ]
  },
  {
   "attachments": {},
   "cell_type": "markdown",
   "metadata": {},
   "source": [
    "## 5번"
   ]
  },
  {
   "cell_type": "code",
   "execution_count": 74,
   "metadata": {},
   "outputs": [
    {
     "name": "stdout",
     "output_type": "stream",
     "text": [
      "3 6 9 12 15 18 21 24 27 "
     ]
    }
   ],
   "source": [
    "G = (int(input(\"구구단 수행 번호를 입력하세요 : \")))\n",
    "\n",
    "for y in range(1, 10):\n",
    "    print(f'{G*y}', end=' ')"
   ]
  }
 ],
 "metadata": {
  "kernelspec": {
   "display_name": "venv",
   "language": "python",
   "name": "python3"
  },
  "language_info": {
   "codemirror_mode": {
    "name": "ipython",
    "version": 3
   },
   "file_extension": ".py",
   "mimetype": "text/x-python",
   "name": "python",
   "nbconvert_exporter": "python",
   "pygments_lexer": "ipython3",
   "version": "3.11.1"
  },
  "orig_nbformat": 4,
  "vscode": {
   "interpreter": {
    "hash": "1732cc55dde7803caebda0df0f1738cc035ced225322b7cf344f368c2c40d995"
   }
  }
 },
 "nbformat": 4,
 "nbformat_minor": 2
}
