{
 "cells": [
  {
   "attachments": {},
   "cell_type": "markdown",
   "metadata": {},
   "source": [
    "## 1번"
   ]
  },
  {
   "cell_type": "code",
   "execution_count": 68,
   "metadata": {},
   "outputs": [
    {
     "name": "stdout",
     "output_type": "stream",
     "text": [
      "넓이 :  12.566368\n"
     ]
    }
   ],
   "source": [
    "pi = 3.141592\n",
    "\n",
    "r = float(input(\"반지름 값을 입력해주세요: \"))\n",
    "\n",
    "print(f\"넓이 :  {r * r * pi}\")"
   ]
  },
  {
   "cell_type": "code",
   "execution_count": 3,
   "metadata": {},
   "outputs": [
    {
     "name": "stdout",
     "output_type": "stream",
     "text": [
      "원의 넓이는 28.274333882308138 입니다.\n"
     ]
    }
   ],
   "source": [
    "import math\n",
    "\n",
    "radius = float(input('반지름을 입력하세요')) # int도 가능하다\n",
    "\n",
    "print(f'원의 넓이는 {math.pi * radius * radius} 입니다.')"
   ]
  },
  {
   "attachments": {},
   "cell_type": "markdown",
   "metadata": {},
   "source": [
    "## 2번"
   ]
  },
  {
   "cell_type": "code",
   "execution_count": 70,
   "metadata": {},
   "outputs": [
    {
     "name": "stdout",
     "output_type": "stream",
     "text": [
      "수성\n"
     ]
    }
   ],
   "source": [
    "P = {'Mercury' : '수성', 'Venus' : '금성'  , 'Earth' : '지구', 'Mars' : '화성' , 'Jupiter' : '목성', 'Saturn' : '토성', 'Uranus' : '천왕성', 'Neptune' : '해왕성'}\n",
    "\n",
    "print(P[input()])"
   ]
  },
  {
   "cell_type": "code",
   "execution_count": 6,
   "metadata": {},
   "outputs": [
    {
     "name": "stdout",
     "output_type": "stream",
     "text": [
      "지구\n"
     ]
    }
   ],
   "source": [
    "solar =  {'Mercury' : '수성',\n",
    "        'Venus' : '금성'  , 'Earth' : '지구',\n",
    "        'Mars' : '화성' , 'Jupiter' : '목성',\n",
    "        'Saturn' : '토성', 'Uranus' : '천왕성',\n",
    "        'Neptune' : '해왕성'}\n",
    "\n",
    "planet = input('행성이름(영어) 입력하세요 >')\n",
    "\n",
    "try:\n",
    "    print(solar[planet])\n",
    "except:\n",
    "    print('찾는 행성이 없습니다')\n"
   ]
  },
  {
   "attachments": {},
   "cell_type": "markdown",
   "metadata": {},
   "source": [
    "## 3번"
   ]
  },
  {
   "cell_type": "code",
   "execution_count": 5,
   "metadata": {},
   "outputs": [
    {
     "name": "stdout",
     "output_type": "stream",
     "text": [
      "7\n",
      "I'm GOING to LEAVE the DOOR open\n"
     ]
    }
   ],
   "source": [
    "S = (input(\"문자열을 입력하세요 : \"))\n",
    "\n",
    "S = input().split()\n",
    "print(len(S))\n",
    "\n",
    "for i in range(len(S)):\n",
    "    if i % 2 == 1:\n",
    "        S[i] = S[i].upper()\n",
    "\n",
    "print(\" \".join(S))\n",
    "    "
   ]
  },
  {
   "cell_type": "code",
   "execution_count": 9,
   "metadata": {},
   "outputs": [
    {
     "name": "stdout",
     "output_type": "stream",
     "text": [
      "7 / I'm GOING to LEAVE the DOOR open "
     ]
    }
   ],
   "source": [
    "sentance = input('영어 문장을 입력하세요')\n",
    "\n",
    "words = sentance.split()\n",
    "print(len(words), end = ' / ')\n",
    "\n",
    "for i, word in enumerate(words):\n",
    "    if (i + 1) % 2 == 0:\n",
    "        print(word.upper(), end =' ')\n",
    "    else:\n",
    "        print(word, end = ' ')"
   ]
  },
  {
   "attachments": {},
   "cell_type": "markdown",
   "metadata": {},
   "source": [
    "## 4번"
   ]
  },
  {
   "cell_type": "code",
   "execution_count": 73,
   "metadata": {},
   "outputs": [
    {
     "name": "stdout",
     "output_type": "stream",
     "text": [
      "9 7 5 3 1\n"
     ]
    }
   ],
   "source": [
    "S = (input(\"수를 입력하세요 : \"))\n",
    "S_reverse = ''\n",
    "for char in S:\n",
    "    S_reverse = char + S_reverse\n",
    "\n",
    "print(S_reverse)"
   ]
  },
  {
   "cell_type": "code",
   "execution_count": 10,
   "metadata": {},
   "outputs": [
    {
     "name": "stdout",
     "output_type": "stream",
     "text": [
      "9 7 5 3 1 "
     ]
    }
   ],
   "source": [
    "numbers = list(map(int, input('수를 여러개 입력하세요').split()))\n",
    "\n",
    "numbers.reverse()\n",
    "\n",
    "for i in numbers:\n",
    "    print(i, end = ' ')\n",
    "    "
   ]
  },
  {
   "attachments": {},
   "cell_type": "markdown",
   "metadata": {},
   "source": [
    "## 5번"
   ]
  },
  {
   "cell_type": "code",
   "execution_count": 74,
   "metadata": {},
   "outputs": [
    {
     "name": "stdout",
     "output_type": "stream",
     "text": [
      "3 6 9 12 15 18 21 24 27 "
     ]
    }
   ],
   "source": [
    "G = (int(input(\"구구단 수행 번호를 입력하세요 : \")))\n",
    "\n",
    "for y in range(1, 10):\n",
    "    print(f'{G*y}', end=' ')"
   ]
  },
  {
   "cell_type": "code",
   "execution_count": null,
   "metadata": {},
   "outputs": [],
   "source": [
    "# 5번 문제\n",
    "# 구구단을 수행할 단번호를 입력하면 그 단의 9까지의 결과를 나열하는 프로그램을 입력하세요.\n",
    "\n",
    "number = int(input('구구단 단 입력 > '))\n",
    "\n",
    "print(f'{number} --> ', end = '')\n",
    "\n",
    "for i in range(1, 10):\n",
    "    print(f'{number*i}', end = ' ')"
   ]
  }
 ],
 "metadata": {
  "kernelspec": {
   "display_name": "venv",
   "language": "python",
   "name": "python3"
  },
  "language_info": {
   "codemirror_mode": {
    "name": "ipython",
    "version": 3
   },
   "file_extension": ".py",
   "mimetype": "text/x-python",
   "name": "python",
   "nbconvert_exporter": "python",
   "pygments_lexer": "ipython3",
   "version": "3.11.1"
  },
  "orig_nbformat": 4,
  "vscode": {
   "interpreter": {
    "hash": "1732cc55dde7803caebda0df0f1738cc035ced225322b7cf344f368c2c40d995"
   }
  }
 },
 "nbformat": 4,
 "nbformat_minor": 2
}
