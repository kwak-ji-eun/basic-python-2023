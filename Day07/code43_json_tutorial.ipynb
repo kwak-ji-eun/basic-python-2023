{
 "cells": [
  {
   "attachments": {},
   "cell_type": "markdown",
   "metadata": {},
   "source": [
    "# JSON 파일 읽고 쓰기\n",
    "\n",
    "## json 읽기\n",
    "\n",
    "모듈 불러오기\n",
    "```python\n",
    "import json\n",
    "```"
   ]
  },
  {
   "cell_type": "code",
   "execution_count": 36,
   "metadata": {},
   "outputs": [
    {
     "name": "stdout",
     "output_type": "stream",
     "text": [
      "{\"ionic\": {\"price\": 20000000, \"year\": \"2022\"}, \"genesis\": {\"price\": 80000000, \"year\": \"2021\"}, \"bmw\": {\"price\": 150000000, \"year\": \"2019\"}}\n"
     ]
    }
   ],
   "source": [
    "import json\n",
    "\n",
    "file = open('./test.json', 'r', encoding = 'utf-8')\n",
    "jsondata = json.load(file)\n",
    "print(json.dumps(jsondata))\n",
    "\n",
    "file.close()"
   ]
  },
  {
   "cell_type": "code",
   "execution_count": 37,
   "metadata": {},
   "outputs": [
    {
     "name": "stdout",
     "output_type": "stream",
     "text": [
      "{\n",
      "\t\"ionic\": {\n",
      "\t\t\"price\": 20000000,\n",
      "\t\t\"year\": \"2022\"\n",
      "\t},\n",
      "\t\"genesis\": {\n",
      "\t\t\"price\": 80000000,\n",
      "\t\t\"year\": \"2021\"\n",
      "\t},\n",
      "\t\"bmw\": {\n",
      "\t\t\"price\": 150000000,\n",
      "\t\t\"year\": \"2019\"\n",
      "\t}\n",
      "}\n"
     ]
    }
   ],
   "source": [
    "with open('./test.json', 'r', encoding = 'utf-8') as file:\n",
    "    jdata = json.load(file)\n",
    "\n",
    "print(json.dumps(jdata, indent='\\t', ensure_ascii= False))\n",
    "#  ensure_ascii= False : 한글 인코딩 문제시 추가 "
   ]
  },
  {
   "attachments": {},
   "cell_type": "markdown",
   "metadata": {},
   "source": [
    "## json 파일 값읽기"
   ]
  },
  {
   "cell_type": "code",
   "execution_count": 38,
   "metadata": {},
   "outputs": [
    {
     "data": {
      "text/plain": [
       "80000000"
      ]
     },
     "execution_count": 38,
     "metadata": {},
     "output_type": "execute_result"
    }
   ],
   "source": [
    "jdata['genesis']['price']"
   ]
  },
  {
   "attachments": {},
   "cell_type": "markdown",
   "metadata": {},
   "source": [
    "# json 값 수정"
   ]
  },
  {
   "cell_type": "code",
   "execution_count": 39,
   "metadata": {},
   "outputs": [
    {
     "name": "stdout",
     "output_type": "stream",
     "text": [
      "{'ionic': {'price': 20000000, 'year': '2022'}, 'genesis': {'price': 95000000, 'year': '2021'}, 'bmw': {'price': 150000000, 'year': '2019'}}\n"
     ]
    }
   ],
   "source": [
    "jdata['genesis']['price'] = 95000000 \n",
    "\n",
    "print(jdata)"
   ]
  },
  {
   "attachments": {},
   "cell_type": "markdown",
   "metadata": {},
   "source": [
    "# json 파일 저장"
   ]
  },
  {
   "cell_type": "code",
   "execution_count": 40,
   "metadata": {},
   "outputs": [],
   "source": [
    "with open('./test2.json', 'w', encoding='utf-8') as file:\n",
    "    json.dump(jdata, file, indent='\\t', ensure_ascii= False)\n",
    "\n",
    "    #  ensure_ascii= False : 한글 인코딩 문제시 추가 "
   ]
  },
  {
   "attachments": {},
   "cell_type": "markdown",
   "metadata": {},
   "source": [
    "# json 파일 쓰기\n"
   ]
  },
  {
   "cell_type": "code",
   "execution_count": 41,
   "metadata": {},
   "outputs": [
    {
     "name": "stdout",
     "output_type": "stream",
     "text": [
      "{\n",
      "\t\"audi\": {\n",
      "\t\t\"price\": 300000000,\n",
      "\t\t\"year\": 2020\n",
      "\t},\n",
      "\t\"porche\": {\n",
      "\t\t\"price\": 1500000000,\n",
      "\t\t\"year\": 2015\n",
      "\t}\n",
      "}\n"
     ]
    }
   ],
   "source": [
    "import json\n",
    "supercars = dict() # 딕셔너리 생성\n",
    "\n",
    "audi = dict()\n",
    "audi['price'] = 300000000\n",
    "audi['year'] = 2020\n",
    "supercars['audi'] = audi\n",
    "\n",
    "porsche = dict()\n",
    "porsche['price'] = 1500000000\n",
    "porsche['year'] = 2015\n",
    "supercars['porche'] = porsche\n",
    "\n",
    "# json 파일로 저장\n",
    "with open('./supercar.json', 'w', encoding='utf-8') as file:\n",
    "    json.dump(supercars, file, indent = '\\t', ensure_ascii = True)\n",
    "\n",
    "# json 파일 로드\n",
    "with open('./supercar.json', 'r', encoding='utf-8') as file:\n",
    "    json_data = json.load(file)\n",
    "print(json.dumps(json_data, indent='\\t'))"
   ]
  }
 ],
 "metadata": {
  "kernelspec": {
   "display_name": "venv",
   "language": "python",
   "name": "python3"
  },
  "language_info": {
   "codemirror_mode": {
    "name": "ipython",
    "version": 3
   },
   "file_extension": ".py",
   "mimetype": "text/x-python",
   "name": "python",
   "nbconvert_exporter": "python",
   "pygments_lexer": "ipython3",
   "version": "3.11.1"
  },
  "orig_nbformat": 4,
  "vscode": {
   "interpreter": {
    "hash": "1732cc55dde7803caebda0df0f1738cc035ced225322b7cf344f368c2c40d995"
   }
  }
 },
 "nbformat": 4,
 "nbformat_minor": 2
}
